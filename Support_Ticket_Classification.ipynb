{
  "nbformat": 4,
  "nbformat_minor": 0,
  "metadata": {
    "colab": {
      "name": "Support Ticket Classification",
      "version": "0.3.2",
      "provenance": [],
      "collapsed_sections": [],
      "include_colab_link": true
    },
    "kernelspec": {
      "display_name": "Python 3",
      "name": "python3"
    }
  },
  "cells": [
    {
      "cell_type": "markdown",
      "metadata": {
        "id": "view-in-github",
        "colab_type": "text"
      },
      "source": [
        "<a href=\"https://colab.research.google.com/github/shreyassks/Summer_Coding/blob/master/Support_Ticket_Classification.ipynb\" target=\"_parent\"><img src=\"https://colab.research.google.com/assets/colab-badge.svg\" alt=\"Open In Colab\"/></a>"
      ]
    },
    {
      "cell_type": "code",
      "metadata": {
        "id": "1u4C5_AjkTsI",
        "colab_type": "code",
        "colab": {}
      },
      "source": [
        "import pandas as pd\n",
        "import numpy as np\n",
        "import matplotlib.pyplot as plt\n",
        "import seaborn as sns\n",
        "%matplotlib inline"
      ],
      "execution_count": 0,
      "outputs": []
    },
    {
      "cell_type": "code",
      "metadata": {
        "id": "yPayLGjukkIV",
        "colab_type": "code",
        "colab": {}
      },
      "source": [
        "df_1 = pd.ExcelFile(\"/content/EIP_TICKETS_ASM_RETAIL.xlsx\")\n",
        "df_2 = pd.read_excel(df_1, \"EIP_TICKETS_ASM_RETAIL\")"
      ],
      "execution_count": 0,
      "outputs": []
    },
    {
      "cell_type": "code",
      "metadata": {
        "id": "H-psQ630lAfM",
        "colab_type": "code",
        "outputId": "d9fe27de-526e-4110-8bab-9a1fe2ee1ddf",
        "colab": {
          "base_uri": "https://localhost:8080/",
          "height": 323
        }
      },
      "source": [
        "df_2.dtypes"
      ],
      "execution_count": 6,
      "outputs": [
        {
          "output_type": "execute_result",
          "data": {
            "text/plain": [
              "1_TT_ID                           int64\n",
              "2_TT_DESCRIPTION                 object\n",
              "ASSIGNED_GROUP                   object\n",
              "ASSIGNED_GROUP_E_MAIL           float64\n",
              "ASSIGNED_TO                      object\n",
              "ASSIGNED_TO_LOGIN                object\n",
              "Application Retail               object\n",
              "CALL_TYPE_DESC                   object\n",
              "CLOSED_ON_PST            datetime64[ns]\n",
              "Create Date Pst          datetime64[ns]\n",
              "Month                            object\n",
              "Year                              int64\n",
              "SLA Calc                         object\n",
              "Priority Calc                    object\n",
              "SIMPLE_STATUS_DESC               object\n",
              "SLA                               int64\n",
              "TIME_TO_CLOSE__HRS__            float64\n",
              "dtype: object"
            ]
          },
          "metadata": {
            "tags": []
          },
          "execution_count": 6
        }
      ]
    },
    {
      "cell_type": "code",
      "metadata": {
        "id": "J1y9RMjilDS1",
        "colab_type": "code",
        "outputId": "99e3e0e2-3a91-4603-b409-787326c17931",
        "colab": {
          "base_uri": "https://localhost:8080/",
          "height": 323
        }
      },
      "source": [
        "df_2.isna().sum()"
      ],
      "execution_count": 7,
      "outputs": [
        {
          "output_type": "execute_result",
          "data": {
            "text/plain": [
              "1_TT_ID                     0\n",
              "2_TT_DESCRIPTION            1\n",
              "ASSIGNED_GROUP              0\n",
              "ASSIGNED_GROUP_E_MAIL    5031\n",
              "ASSIGNED_TO                 0\n",
              "ASSIGNED_TO_LOGIN           0\n",
              "Application Retail          0\n",
              "CALL_TYPE_DESC             92\n",
              "CLOSED_ON_PST               1\n",
              "Create Date Pst             0\n",
              "Month                       0\n",
              "Year                        0\n",
              "SLA Calc                    0\n",
              "Priority Calc               0\n",
              "SIMPLE_STATUS_DESC          0\n",
              "SLA                         0\n",
              "TIME_TO_CLOSE__HRS__        1\n",
              "dtype: int64"
            ]
          },
          "metadata": {
            "tags": []
          },
          "execution_count": 7
        }
      ]
    },
    {
      "cell_type": "code",
      "metadata": {
        "id": "IVt2ZPWgo8x0",
        "colab_type": "code",
        "colab": {}
      },
      "source": [
        "df_2.rename(columns = lambda x: x.replace(\" \",\"_\").upper(), inplace = True)"
      ],
      "execution_count": 0,
      "outputs": []
    },
    {
      "cell_type": "code",
      "metadata": {
        "id": "Pv5Pa5_TlXiU",
        "colab_type": "code",
        "outputId": "a0d80e3f-1e4f-4a24-f85d-a6178459670f",
        "colab": {
          "base_uri": "https://localhost:8080/",
          "height": 119
        }
      },
      "source": [
        "df_2.columns"
      ],
      "execution_count": 9,
      "outputs": [
        {
          "output_type": "execute_result",
          "data": {
            "text/plain": [
              "Index(['1_TT_ID', '2_TT_DESCRIPTION', 'ASSIGNED_GROUP',\n",
              "       'ASSIGNED_GROUP_E_MAIL', 'ASSIGNED_TO', 'ASSIGNED_TO_LOGIN',\n",
              "       'APPLICATION_RETAIL', 'CALL_TYPE_DESC', 'CLOSED_ON_PST',\n",
              "       'CREATE_DATE_PST', 'MONTH', 'YEAR', 'SLA_CALC', 'PRIORITY_CALC',\n",
              "       'SIMPLE_STATUS_DESC', 'SLA', 'TIME_TO_CLOSE__HRS__'],\n",
              "      dtype='object')"
            ]
          },
          "metadata": {
            "tags": []
          },
          "execution_count": 9
        }
      ]
    },
    {
      "cell_type": "code",
      "metadata": {
        "id": "QKtNM5GflHZm",
        "colab_type": "code",
        "colab": {}
      },
      "source": [
        "df_2.drop(\"ASSIGNED_GROUP_E_MAIL\",axis = 1, inplace = True)"
      ],
      "execution_count": 0,
      "outputs": []
    },
    {
      "cell_type": "code",
      "metadata": {
        "id": "p8vuBr0oldcc",
        "colab_type": "code",
        "outputId": "0b99a783-ab34-4710-8b30-0905ebb76dc4",
        "colab": {
          "base_uri": "https://localhost:8080/",
          "height": 464
        }
      },
      "source": [
        "plt.figure(figsize = (10,7))\n",
        "sns.countplot(\"ASSIGNED_GROUP\", data = df_2)"
      ],
      "execution_count": 19,
      "outputs": [
        {
          "output_type": "execute_result",
          "data": {
            "text/plain": [
              "<matplotlib.axes._subplots.AxesSubplot at 0x7f995bb94cf8>"
            ]
          },
          "metadata": {
            "tags": []
          },
          "execution_count": 19
        },
        {
          "output_type": "display_data",
          "data": {
            "image/png": "[encoded data removed]",
            "text/plain": [
              "<Figure size 720x504 with 1 Axes>"
            ]
          },
          "metadata": {
            "tags": []
          }
        }
      ]
    },
    {
      "cell_type": "code",
      "metadata": {
        "id": "ll0TOlAVmrSR",
        "colab_type": "code",
        "outputId": "d7a83450-0234-422e-a8ea-3a70d5e144ee",
        "colab": {
          "base_uri": "https://localhost:8080/",
          "height": 464
        }
      },
      "source": [
        "plt.figure(figsize = (10,7))\n",
        "sns.countplot(\"CALL_TYPE_DESC\", data = df_2)"
      ],
      "execution_count": 18,
      "outputs": [
        {
          "output_type": "execute_result",
          "data": {
            "text/plain": [
              "<matplotlib.axes._subplots.AxesSubplot at 0x7f995da2eac8>"
            ]
          },
          "metadata": {
            "tags": []
          },
          "execution_count": 18
        },
        {
          "output_type": "display_data",
          "data": {
            "image/png": "[encoded data removed]",
            "text/plain": [
              "<Figure size 720x504 with 1 Axes>"
            ]
          },
          "metadata": {
            "tags": []
          }
        }
      ]
    },
    {
      "cell_type": "code",
      "metadata": {
        "id": "BEfoqbYnq6XN",
        "colab_type": "code",
        "colab": {
          "base_uri": "https://localhost:8080/",
          "height": 464
        },
        "outputId": "bd74d425-da4f-4758-c171-2cd99c4d7f40"
      },
      "source": [
        "plt.figure(figsize = (10,7))\n",
        "sns.countplot(\"APPLICATION_RETAIL\", data = df_2)"
      ],
      "execution_count": 17,
      "outputs": [
        {
          "output_type": "execute_result",
          "data": {
            "text/plain": [
              "<matplotlib.axes._subplots.AxesSubplot at 0x7f995bc3f7f0>"
            ]
          },
          "metadata": {
            "tags": []
          },
          "execution_count": 17
        },
        {
          "output_type": "display_data",
          "data": {
            "image/png": "[encoded data removed]",
            "text/plain": [
              "<Figure size 720x504 with 1 Axes>"
            ]
          },
          "metadata": {
            "tags": []
          }
        }
      ]
    },
    {
      "cell_type": "code",
      "metadata": {
        "id": "DbabTHELrBy1",
        "colab_type": "code",
        "colab": {
          "base_uri": "https://localhost:8080/",
          "height": 464
        },
        "outputId": "9fd54541-5d21-4f40-a85e-d2f5e3593aa8"
      },
      "source": [
        "plt.figure(figsize = (10,7))\n",
        "sns.countplot(\"SLA_CALC\", data = df_2)"
      ],
      "execution_count": 16,
      "outputs": [
        {
          "output_type": "execute_result",
          "data": {
            "text/plain": [
              "<matplotlib.axes._subplots.AxesSubplot at 0x7f995bf75898>"
            ]
          },
          "metadata": {
            "tags": []
          },
          "execution_count": 16
        },
        {
          "output_type": "display_data",
          "data": {
            "image/png": "[encoded data removed]",
            "text/plain": [
              "<Figure size 720x504 with 1 Axes>"
            ]
          },
          "metadata": {
            "tags": []
          }
        }
      ]
    },
    {
      "cell_type": "code",
      "metadata": {
        "id": "TQEH6JbSsz6O",
        "colab_type": "code",
        "colab": {
          "base_uri": "https://localhost:8080/",
          "height": 85
        },
        "outputId": "bd12efad-141a-4b9e-dcbe-5f7e214215df"
      },
      "source": [
        "df_2.SLA_CALC.value_counts()"
      ],
      "execution_count": 22,
      "outputs": [
        {
          "output_type": "execute_result",
          "data": {
            "text/plain": [
              "Met       3610\n",
              "Missed    1420\n",
              "Within       1\n",
              "Name: SLA_CALC, dtype: int64"
            ]
          },
          "metadata": {
            "tags": []
          },
          "execution_count": 22
        }
      ]
    },
    {
      "cell_type": "code",
      "metadata": {
        "id": "fdIfUydrrwOt",
        "colab_type": "code",
        "colab": {
          "base_uri": "https://localhost:8080/",
          "height": 464
        },
        "outputId": "cbcf1fb6-61d1-4033-9730-f0828558b5be"
      },
      "source": [
        "plt.figure(figsize = (10,7))\n",
        "sns.countplot(\"SIMPLE_STATUS_DESC\", data = df_2)"
      ],
      "execution_count": 20,
      "outputs": [
        {
          "output_type": "execute_result",
          "data": {
            "text/plain": [
              "<matplotlib.axes._subplots.AxesSubplot at 0x7f995bb1f940>"
            ]
          },
          "metadata": {
            "tags": []
          },
          "execution_count": 20
        },
        {
          "output_type": "display_data",
          "data": {
            "image/png": "[encoded data removed]",
            "text/plain": [
              "<Figure size 720x504 with 1 Axes>"
            ]
          },
          "metadata": {
            "tags": []
          }
        }
      ]
    },
    {
      "cell_type": "code",
      "metadata": {
        "id": "7Y2_AdbusEr1",
        "colab_type": "code",
        "colab": {
          "base_uri": "https://localhost:8080/",
          "height": 68
        },
        "outputId": "f8aea893-5427-4c5e-e9b8-72453bfc826e"
      },
      "source": [
        "df_2.SIMPLE_STATUS_DESC.value_counts()"
      ],
      "execution_count": 21,
      "outputs": [
        {
          "output_type": "execute_result",
          "data": {
            "text/plain": [
              "Closed    5030\n",
              "Open         1\n",
              "Name: SIMPLE_STATUS_DESC, dtype: int64"
            ]
          },
          "metadata": {
            "tags": []
          },
          "execution_count": 21
        }
      ]
    },
    {
      "cell_type": "code",
      "metadata": {
        "id": "AjYzY5BIsJmF",
        "colab_type": "code",
        "colab": {
          "base_uri": "https://localhost:8080/",
          "height": 374
        },
        "outputId": "aae0d62b-d695-4fe6-a943-7e1c3c24442f"
      },
      "source": [
        "df_2.ASSIGNED_TO.value_counts()"
      ],
      "execution_count": 23,
      "outputs": [
        {
          "output_type": "execute_result",
          "data": {
            "text/plain": [
              "ADIMULAM HARI KRISHNA              2071\n",
              "Chanchureddy Daka                  1014\n",
              "CHETHAN KRISHNA                     681\n",
              "Naveen Ponnathota                   558\n",
              "Chethan Krishna                     304\n",
              "ASM Retail Legacy                   138\n",
              "Madhav Immaidsetti                  123\n",
              "Ayyapparajan Kannathasan             75\n",
              "Praveen Kumar Doddapaneni            35\n",
              "ASM Retail Monitoring Default        10\n",
              "SRIRAM BALASUBRAMANIAN                5\n",
              "Kabilan Premkrishnan                  3\n",
              "Kaleshavali Shaik                     3\n",
              "Shivaleela Motagi                     3\n",
              "VARSHITHA SEETHA                      2\n",
              "Naveen Kumar                          2\n",
              "SAI MANKALA                           1\n",
              "Ilango Rengaraj                       1\n",
              "Girivenkata Addagarla                 1\n",
              "Sulthanul Aribin Sathik Moulana       1\n",
              "Name: ASSIGNED_TO, dtype: int64"
            ]
          },
          "metadata": {
            "tags": []
          },
          "execution_count": 23
        }
      ]
    },
    {
      "cell_type": "code",
      "metadata": {
        "id": "NRLTEzXIw2En",
        "colab_type": "code",
        "colab": {
          "base_uri": "https://localhost:8080/",
          "height": 464
        },
        "outputId": "09fdaa3c-e35c-478e-da9a-152ce12127c5"
      },
      "source": [
        "plt.figure(figsize = (10,7))\n",
        "sns.countplot(\"PRIORITY_CALC\", data = df_2)"
      ],
      "execution_count": 24,
      "outputs": [
        {
          "output_type": "execute_result",
          "data": {
            "text/plain": [
              "<matplotlib.axes._subplots.AxesSubplot at 0x7f9960fc7978>"
            ]
          },
          "metadata": {
            "tags": []
          },
          "execution_count": 24
        },
        {
          "output_type": "display_data",
          "data": {
            "image/png": "[encoded data removed]",
            "text/plain": [
              "<Figure size 720x504 with 1 Axes>"
            ]
          },
          "metadata": {
            "tags": []
          }
        }
      ]
    }
  ]
}